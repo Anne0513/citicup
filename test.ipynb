{
 "cells": [
  {
   "cell_type": "code",
   "execution_count": 2,
   "metadata": {},
   "outputs": [],
   "source": [
    "import numpy as np\n",
    "import pandas as pd\n",
    "import streamlit as st\n",
    "import re\n",
    "from PIL import Image\n",
    "\n",
    "def sub_company(df, not_first_layer): # 给定dataframe，返回edges，以及子公司的(company, ticker)对\n",
    "    if df.shape[0]:\n",
    "        if not_first_layer:\n",
    "            edges = list(zip([not_first_layer] * df.shape[0], df['RalatedParty'], df['DirectHoldingRatio'], df['IndirectHoldingRatio'], df['is_foreign']))\n",
    "        else:\n",
    "            edges = list(zip(df['Symbol'], df['RalatedParty'], df['DirectHoldingRatio'], df['IndirectHoldingRatio'], df['is_foreign']))\n",
    "        descendant = df[~df['Sub_Symbol'].isna()]\n",
    "        return edges, list(zip(descendant['RalatedParty'], descendant['Sub_Symbol']))\n",
    "    else:\n",
    "        return [], []\n",
    "    \n",
    "def search(data, input_ticker):\n",
    "    level = 0\n",
    "    edges = []\n",
    "    new_edges, subsidiary = sub_company(data[data['Symbol'] == input_ticker], not_first_layer=False) # 搜索的是000009   \n",
    "    while True:\n",
    "        edges = edges + new_edges\n",
    "        gen = list((sub_company(data[data['Symbol'] == ticker], not_first_layer=company) for company, ticker in subsidiary))\n",
    "        new_edges, subsidiary = [edge for edges, _ in gen for edge in edges], [temp for _, temps in gen for temp in temps]\n",
    "        level += 1\n",
    "        if len(subsidiary) == 0 or level == 3:\n",
    "            break\n",
    "    return edges"
   ]
  },
  {
   "cell_type": "code",
   "execution_count": 6,
   "metadata": {},
   "outputs": [],
   "source": [
    "data = pd.read_csv('data/data.csv', dtype=str) # pd.read_excel('data/data.xlsx')[2:].reset_index(drop=True)\n",
    "\n",
    "# def has_chinese(s):\n",
    "#     return bool(re.search('[\\u4e00-\\u9fff]', s))\n",
    "\n",
    "# data['is_foreign'] = data['RalatedParty'].apply(lambda x: 0 if has_chinese(x) else 1)\n",
    "\n",
    "# map = pd.read_excel('map.xlsx', dtype=str)\n",
    "\n",
    "# map_dict = dict(zip(map['公司名称'], map['证券代码.x']))\n",
    "# data['Sub_Symbol'] = data['RalatedParty'].map(map_dict)"
   ]
  },
  {
   "cell_type": "code",
   "execution_count": 4,
   "metadata": {},
   "outputs": [],
   "source": [
    "edges = search(data, '000009')"
   ]
  },
  {
   "cell_type": "code",
   "execution_count": 17,
   "metadata": {},
   "outputs": [],
   "source": []
  }
 ],
 "metadata": {
  "kernelspec": {
   "display_name": "Python 3",
   "language": "python",
   "name": "python3"
  },
  "language_info": {
   "codemirror_mode": {
    "name": "ipython",
    "version": 3
   },
   "file_extension": ".py",
   "mimetype": "text/x-python",
   "name": "python",
   "nbconvert_exporter": "python",
   "pygments_lexer": "ipython3",
   "version": "3.8.8"
  }
 },
 "nbformat": 4,
 "nbformat_minor": 2
}
